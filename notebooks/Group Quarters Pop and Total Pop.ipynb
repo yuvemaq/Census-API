{
 "cells": [
  {
   "cell_type": "markdown",
   "metadata": {},
   "source": [
    "## Census API - Part 1"
   ]
  },
  {
   "cell_type": "markdown",
   "metadata": {},
   "source": [
    "### Group Quarters Population in Other Non-institutional Facilities by Sex and Age"
   ]
  },
  {
   "cell_type": "code",
   "execution_count": 104,
   "metadata": {},
   "outputs": [],
   "source": [
    "import requests\n",
    "HOST = 'https://api.census.gov/data'\n",
    "year = '2010'\n",
    "dataset = 'dec/sf2'\n",
    "base_url = '/'.join([HOST, year, dataset])\n",
    "\n",
    "predicates = {}\n",
    "\n",
    "get_vars = [\"NAME\", \"GEO_ID\", \"PCO010001\"]\n",
    "predicates['get'] = ','.join(get_vars)\n",
    "predicates['for'] = \"state:*\"\n",
    "r = requests.get(base_url, params = predicates)"
   ]
  },
  {
   "cell_type": "code",
   "execution_count": 105,
   "metadata": {},
   "outputs": [
    {
     "name": "stdout",
     "output_type": "stream",
     "text": [
      "[[\"NAME\",\"GEO_ID\",\"PCO010001\",\"state\"],\n",
      "[\"Alabama\",\"0400000US01\",\"10319\",\"01\"],\n",
      "[\"Alaska\",\"0400000US02\",\"12967\",\"02\"],\n",
      "[\"Arizona\",\"0400000US04\",\"21437\",\"04\"],\n",
      "[\"Arkansas\",\"0400000US05\",\"6881\",\"05\"],\n",
      "[\"California\",\"0400000US06\",\"192203\",\"06\"],\n",
      "[\"Colorado\",\"0400000US08\",\"13390\",\"08\"],\n",
      "[\"Connecticut\",\"0400000US09\",\"16268\",\"09\"],\n",
      "[\"Delaware\",\"0400000US10\",\"2273\",\"10\"],\n",
      "[\"District of Columbia\",\"0400000US11\",\"7091\",\"11\"],\n",
      "[\"Florida\",\"0400000US12\",\"67348\",\"12\"],\n",
      "[\"Georgia\",\"0400000US13\",\"20294\",\"13\"],\n",
      "[\"Hawaii\",\"0400000US15\",\"11483\",\"15\"],\n",
      "[\"Idaho\",\"0400000US16\",\"4186\",\"16\"],\n",
      "[\"Illinois\",\"0400000US17\",\"36341\",\"17\"],\n",
      "[\"Indiana\",\"0400000US18\",\"15925\",\"18\"],\n",
      "[\"Iowa\",\"0400000US19\",\"10253\",\"19\"],\n",
      "[\"Kansas\",\"0400000US20\",\"5984\",\"20\"],\n",
      "[\"Kentucky\",\"0400000US21\",\"12895\",\"21\"],\n",
      "[\"Louisiana\",\"0400000US22\",\"11571\",\"22\"],\n",
      "[\"Maine\",\"0400000US23\",\"5754\",\"23\"],\n",
      "[\"Maryland\",\"0400000US24\",\"15862\",\"24\"],\n",
      "[\"Massachusetts\",\"0400000US25\",\"27944\",\"25\"],\n",
      "[\"Michigan\",\"0400000US26\",\"40954\",\"26\"],\n",
      "[\"Minnesota\",\"0400000US27\",\"28643\",\"27\"],\n",
      "[\"Mississippi\",\"0400000US28\",\"6419\",\"28\"],\n",
      "[\"Missouri\",\"0400000US29\",\"17782\",\"29\"],\n",
      "[\"Montana\",\"0400000US30\",\"7910\",\"30\"],\n",
      "[\"Nebraska\",\"0400000US31\",\"5016\",\"31\"],\n",
      "[\"Nevada\",\"0400000US32\",\"5961\",\"32\"],\n",
      "[\"New Hampshire\",\"0400000US33\",\"3717\",\"33\"],\n",
      "[\"New Jersey\",\"0400000US34\",\"29320\",\"34\"],\n",
      "[\"New Mexico\",\"0400000US35\",\"7096\",\"35\"],\n",
      "[\"New York\",\"0400000US36\",\"127455\",\"36\"],\n",
      "[\"North Carolina\",\"0400000US37\",\"27829\",\"37\"],\n",
      "[\"North Dakota\",\"0400000US38\",\"3431\",\"38\"],\n",
      "[\"Ohio\",\"0400000US39\",\"33611\",\"39\"],\n",
      "[\"Oklahoma\",\"0400000US40\",\"10255\",\"40\"],\n",
      "[\"Oregon\",\"0400000US41\",\"26148\",\"41\"],\n",
      "[\"Pennsylvania\",\"0400000US42\",\"51410\",\"42\"],\n",
      "[\"Rhode Island\",\"0400000US44\",\"3659\",\"44\"],\n",
      "[\"South Carolina\",\"0400000US45\",\"9513\",\"45\"],\n",
      "[\"South Dakota\",\"0400000US46\",\"8408\",\"46\"],\n",
      "[\"Tennessee\",\"0400000US47\",\"14421\",\"47\"],\n",
      "[\"Texas\",\"0400000US48\",\"50653\",\"48\"],\n",
      "[\"Utah\",\"0400000US49\",\"7802\",\"49\"],\n",
      "[\"Vermont\",\"0400000US50\",\"2858\",\"50\"],\n",
      "[\"Virginia\",\"0400000US51\",\"16885\",\"51\"],\n",
      "[\"Washington\",\"0400000US53\",\"33612\",\"53\"],\n",
      "[\"West Virginia\",\"0400000US54\",\"3867\",\"54\"],\n",
      "[\"Wisconsin\",\"0400000US55\",\"19014\",\"55\"],\n",
      "[\"Wyoming\",\"0400000US56\",\"2065\",\"56\"],\n",
      "[\"Puerto Rico\",\"0400000US72\",\"10536\",\"72\"]]\n"
     ]
    }
   ],
   "source": [
    "print(r.text)"
   ]
  },
  {
   "cell_type": "code",
   "execution_count": 106,
   "metadata": {},
   "outputs": [
    {
     "name": "stdout",
     "output_type": "stream",
     "text": [
      "['NAME', 'GEO_ID', 'PCO010001', 'state']\n"
     ]
    }
   ],
   "source": [
    "print(r.json()[0])"
   ]
  },
  {
   "cell_type": "code",
   "execution_count": 107,
   "metadata": {},
   "outputs": [
    {
     "data": {
      "text/html": [
       "<div>\n",
       "<style scoped>\n",
       "    .dataframe tbody tr th:only-of-type {\n",
       "        vertical-align: middle;\n",
       "    }\n",
       "\n",
       "    .dataframe tbody tr th {\n",
       "        vertical-align: top;\n",
       "    }\n",
       "\n",
       "    .dataframe thead th {\n",
       "        text-align: right;\n",
       "    }\n",
       "</style>\n",
       "<table border=\"1\" class=\"dataframe\">\n",
       "  <thead>\n",
       "    <tr style=\"text-align: right;\">\n",
       "      <th></th>\n",
       "      <th>name</th>\n",
       "      <th>GEO_ID</th>\n",
       "      <th>tot_pop</th>\n",
       "      <th>state</th>\n",
       "    </tr>\n",
       "  </thead>\n",
       "  <tbody>\n",
       "    <tr>\n",
       "      <th>0</th>\n",
       "      <td>Alabama</td>\n",
       "      <td>0400000US01</td>\n",
       "      <td>10319</td>\n",
       "      <td>01</td>\n",
       "    </tr>\n",
       "    <tr>\n",
       "      <th>1</th>\n",
       "      <td>Alaska</td>\n",
       "      <td>0400000US02</td>\n",
       "      <td>12967</td>\n",
       "      <td>02</td>\n",
       "    </tr>\n",
       "    <tr>\n",
       "      <th>2</th>\n",
       "      <td>Arizona</td>\n",
       "      <td>0400000US04</td>\n",
       "      <td>21437</td>\n",
       "      <td>04</td>\n",
       "    </tr>\n",
       "    <tr>\n",
       "      <th>3</th>\n",
       "      <td>Arkansas</td>\n",
       "      <td>0400000US05</td>\n",
       "      <td>6881</td>\n",
       "      <td>05</td>\n",
       "    </tr>\n",
       "    <tr>\n",
       "      <th>4</th>\n",
       "      <td>California</td>\n",
       "      <td>0400000US06</td>\n",
       "      <td>192203</td>\n",
       "      <td>06</td>\n",
       "    </tr>\n",
       "  </tbody>\n",
       "</table>\n",
       "</div>"
      ],
      "text/plain": [
       "         name       GEO_ID  tot_pop state\n",
       "0     Alabama  0400000US01    10319    01\n",
       "1      Alaska  0400000US02    12967    02\n",
       "2     Arizona  0400000US04    21437    04\n",
       "3    Arkansas  0400000US05     6881    05\n",
       "4  California  0400000US06   192203    06"
      ]
     },
     "execution_count": 107,
     "metadata": {},
     "output_type": "execute_result"
    }
   ],
   "source": [
    "col_names = ['name','GEO_ID', 'tot_pop', 'state']\n",
    "\n",
    "import pandas as pd\n",
    "df = pd.DataFrame(columns=col_names, data=r.json()[1:])\n",
    "\n",
    "# convert dtypes\n",
    "df['tot_pop'] = df['tot_pop'].astype(int)\n",
    "df.head()"
   ]
  },
  {
   "cell_type": "code",
   "execution_count": 108,
   "metadata": {},
   "outputs": [],
   "source": [
    "def getdata(state_name):\n",
    "    for state in state_name:\n",
    "        return df[df.name==state_name].iloc[0]['state']"
   ]
  },
  {
   "cell_type": "code",
   "execution_count": 109,
   "metadata": {},
   "outputs": [
    {
     "data": {
      "text/plain": [
       "'02'"
      ]
     },
     "execution_count": 109,
     "metadata": {},
     "output_type": "execute_result"
    }
   ],
   "source": [
    "getdata('Alaska')"
   ]
  },
  {
   "cell_type": "code",
   "execution_count": 110,
   "metadata": {},
   "outputs": [
    {
     "data": {
      "text/plain": [
       "Index(['name', 'GEO_ID', 'tot_pop', 'state'], dtype='object')"
      ]
     },
     "execution_count": 110,
     "metadata": {},
     "output_type": "execute_result"
    }
   ],
   "source": [
    "df.columns"
   ]
  },
  {
   "cell_type": "code",
   "execution_count": 111,
   "metadata": {},
   "outputs": [
    {
     "data": {
      "text/plain": [
       "name       object\n",
       "GEO_ID     object\n",
       "tot_pop     int32\n",
       "state      object\n",
       "dtype: object"
      ]
     },
     "execution_count": 111,
     "metadata": {},
     "output_type": "execute_result"
    }
   ],
   "source": [
    "df.dtypes"
   ]
  },
  {
   "cell_type": "code",
   "execution_count": 112,
   "metadata": {},
   "outputs": [],
   "source": [
    "df['state'] = df['state'].astype(int)"
   ]
  },
  {
   "cell_type": "code",
   "execution_count": 113,
   "metadata": {},
   "outputs": [
    {
     "data": {
      "text/plain": [
       "name       object\n",
       "GEO_ID     object\n",
       "tot_pop     int32\n",
       "state       int32\n",
       "dtype: object"
      ]
     },
     "execution_count": 113,
     "metadata": {},
     "output_type": "execute_result"
    }
   ],
   "source": [
    "df.dtypes"
   ]
  },
  {
   "cell_type": "markdown",
   "metadata": {},
   "source": [
    "II. Find state with the greatest population in 2010 and display its GEO_ID, total population, and state code."
   ]
  },
  {
   "cell_type": "code",
   "execution_count": 114,
   "metadata": {},
   "outputs": [
    {
     "data": {
      "text/plain": [
       "name        California\n",
       "GEO_ID     0400000US06\n",
       "tot_pop         192203\n",
       "state                6\n",
       "Name: 4, dtype: object"
      ]
     },
     "execution_count": 114,
     "metadata": {},
     "output_type": "execute_result"
    }
   ],
   "source": [
    "df.loc[df['tot_pop'].idxmax()]"
   ]
  },
  {
   "cell_type": "markdown",
   "metadata": {},
   "source": [
    "III. Find state with lowest population in 2010 and once more display its GEO_ID, total population, and state code."
   ]
  },
  {
   "cell_type": "code",
   "execution_count": 115,
   "metadata": {},
   "outputs": [
    {
     "data": {
      "text/plain": [
       "name           Wyoming\n",
       "GEO_ID     0400000US56\n",
       "tot_pop           2065\n",
       "state               56\n",
       "Name: 50, dtype: object"
      ]
     },
     "execution_count": 115,
     "metadata": {},
     "output_type": "execute_result"
    }
   ],
   "source": [
    "df.loc[df['tot_pop'].idxmin()]"
   ]
  },
  {
   "cell_type": "markdown",
   "metadata": {},
   "source": [
    "IV. For a specific state name input and state code input, return its GEO_ID and total population."
   ]
  },
  {
   "cell_type": "code",
   "execution_count": 116,
   "metadata": {},
   "outputs": [],
   "source": [
    "y_ = {\n",
    "    0:'Alabama',\n",
    "    1:'Alaska',\n",
    "    2:'Arizona',\n",
    "    3:'Arkansas',\n",
    "    4: 'California',\n",
    "    5: 'Colorado',\n",
    "    6: 'Connecticut',\n",
    "    7: 'Delaware',\n",
    "    8: 'Florida',\n",
    "    9: 'Georgia',\n",
    "    10: 'Hawaii',\n",
    "    11: 'Idaho',\n",
    "    12: 'Illinois',\n",
    "    13: 'Indiana',\n",
    "    14: 'Iowa',\n",
    "    15: 'Kansas',\n",
    "    16: 'Kentucky',\n",
    "    17: 'Lousianna',\n",
    "    18: 'Maine',\n",
    "    19: 'Maryland',\n",
    "    20: 'Massachusetts',\n",
    "    21: 'Michigan',\n",
    "    22: 'Minnesotta',\n",
    "    23: 'Mississippi',\n",
    "    24: 'Missouri',\n",
    "    25: 'Montana',\n",
    "    26: 'Nebraska',\n",
    "    27: 'Nevada',\n",
    "    28: 'New Hampshire',\n",
    "    29: 'New Jersey',\n",
    "    30: 'New Mexico',\n",
    "    31: 'New York',\n",
    "    32: 'North Carolina',\n",
    "    33: 'North Dakota',\n",
    "    34: 'Ohio',\n",
    "    35: 'Oklahoma',\n",
    "    36: 'Oregon',\n",
    "    37: 'Pennsylvania',\n",
    "    38: 'Puerto Rico',\n",
    "    39: 'Rhode Island',\n",
    "    40: 'South Carolina',\n",
    "    41: 'South Dakota',\n",
    "    42: 'Tennesee',\n",
    "    43: 'Texas',\n",
    "    44: 'Utah',\n",
    "    45: 'Vermont',\n",
    "    46: 'Virginia',\n",
    "    47: 'Washington',\n",
    "    48: 'West Virginia',\n",
    "    49: 'Wisconsin',\n",
    "    50: 'Wyoming'\n",
    "}"
   ]
  },
  {
   "cell_type": "code",
   "execution_count": 117,
   "metadata": {},
   "outputs": [],
   "source": [
    "def data(y_):\n",
    "    for state_code in y_:\n",
    "        if state_code in range(51):\n",
    "            return df.iloc[state_code]"
   ]
  },
  {
   "cell_type": "code",
   "execution_count": 118,
   "metadata": {},
   "outputs": [
    {
     "data": {
      "text/plain": [
       "name          New York\n",
       "GEO_ID     0400000US36\n",
       "tot_pop         127455\n",
       "state               36\n",
       "Name: 32, dtype: object"
      ]
     },
     "execution_count": 118,
     "metadata": {},
     "output_type": "execute_result"
    }
   ],
   "source": [
    "# Getting data for New York\n",
    "data([32])"
   ]
  },
  {
   "cell_type": "markdown",
   "metadata": {},
   "source": [
    "IV. Using Census API Wrapper"
   ]
  },
  {
   "cell_type": "code",
   "execution_count": 12,
   "metadata": {},
   "outputs": [
    {
     "name": "stderr",
     "output_type": "stream",
     "text": [
      "Cloning into 'census'...\n"
     ]
    }
   ],
   "source": [
    "!git clone https://github.com/datamade/census"
   ]
  },
  {
   "cell_type": "code",
   "execution_count": 13,
   "metadata": {},
   "outputs": [
    {
     "name": "stdout",
     "output_type": "stream",
     "text": [
      " Volume in drive C is System SSD\n",
      " Volume Serial Number is D4AC-86F7\n",
      "\n",
      " Directory of C:\\Users\\yuvem\n",
      "\n",
      "09/18/2021  10:36 AM    <DIR>          .\n",
      "09/18/2021  10:36 AM    <DIR>          ..\n",
      "07/31/2021  02:16 PM    <DIR>          .anaconda\n",
      "06/03/2021  04:30 PM    <DIR>          .android\n",
      "08/29/2021  05:48 AM    <DIR>          .cache\n",
      "09/16/2021  12:16 PM    <DIR>          .conda\n",
      "07/31/2021  02:14 PM                60 .condarc\n",
      "08/11/2021  06:35 PM    <DIR>          .config\n",
      "07/31/2021  04:05 PM    <DIR>          .continuum\n",
      "07/31/2021  11:14 AM    <DIR>          .cookiecutters\n",
      "05/24/2021  11:36 AM    <DIR>          .dotnet\n",
      "09/16/2021  05:29 PM               223 .gitconfig\n",
      "09/15/2021  12:17 PM    <DIR>          .ipynb_checkpoints\n",
      "01/28/2021  08:01 PM    <DIR>          .ipython\n",
      "08/25/2021  06:29 PM    <DIR>          .jupyter\n",
      "08/29/2021  04:31 PM    <DIR>          .keras\n",
      "01/28/2021  07:39 PM    <DIR>          .matplotlib\n",
      "11/29/2020  05:06 PM    <DIR>          .Origin\n",
      "04/29/2021  04:35 PM    <DIR>          .pylint.d\n",
      "11/29/2020  05:06 PM    <DIR>          .QtWebEngineProcess\n",
      "02/28/2021  01:35 PM    <DIR>          .spyder-py3\n",
      "02/13/2021  09:43 AM    <DIR>          .vscode\n",
      "09/15/2021  10:01 AM             1,169 __init__.py.ipynb\n",
      "04/01/2021  02:10 PM             1,245 01_first_notebook.ipynb\n",
      "04/01/2021  02:11 PM             1,245 01_first_notebook-Copy1.ipynb\n",
      "07/14/2021  01:49 PM    <DIR>          3D Objects\n",
      "09/16/2021  12:16 PM    <DIR>          anaconda3\n",
      "01/29/2021  07:02 PM    <DIR>          ansel\n",
      "04/15/2021  09:00 PM            10,201 Answer.ipynb\n",
      "09/18/2021  01:47 AM         1,680,849 Applying Data Wrangling, EDA, Analysis to Data Storytelling.ipynb\n",
      "09/14/2021  10:58 AM             3,930 Attempt Census API.ipynb\n",
      "09/07/2021  09:05 PM                 0 Capstone 2\n",
      "09/18/2021  10:35 AM    <DIR>          census\n",
      "08/29/2021  04:31 PM             5,372 cnn_utils.ipynb\n",
      "03/23/2021  08:36 PM            47,985 Coding Exercises_Functions.ipynb\n",
      "06/19/2021  04:55 PM           506,198 Comparison Strings.ipynb\n",
      "07/14/2021  01:49 PM    <DIR>          Contacts\n",
      "08/18/2021  11:00 AM                 0 countryclub.sqbpro\n",
      "08/11/2021  06:35 PM    <DIR>          data\n",
      "09/12/2021  12:05 PM         5,819,999 Data Wrangling and EDA - Capstone2.ipynb\n",
      "09/01/2021  12:11 PM             7,576 df.xlsx\n",
      "09/11/2021  02:58 PM            88,860 dmax_cosine.csv\n",
      "09/11/2021  02:58 PM            88,860 dmax_euclidean.csv\n",
      "09/11/2021  02:58 PM            88,860 dmax_manhattan.csv\n",
      "09/11/2021  02:58 PM            88,800 dmin_cosine.csv\n",
      "09/11/2021  02:58 PM            88,800 dmin_euclidean.csv\n",
      "09/11/2021  02:58 PM            88,800 dmin_manhattan.csv\n",
      "05/24/2021  11:39 AM    <DIR>          Documents\n",
      "09/18/2021  01:49 AM    <DIR>          Downloads\n",
      "08/15/2021  01:11 AM           421,414 ds_ppm_analysis2\n",
      "08/15/2021  01:11 AM           591,845 ds_ppm_analysis3\n",
      "08/15/2021  01:11 AM           167,402 ds_ppm_analysis4\n",
      "08/15/2021  01:10 AM         5,938,248 ds_ppm2\n",
      "08/15/2021  01:10 AM         7,513,146 ds_ppm3\n",
      "08/15/2021  01:10 AM         1,930,831 ds_ppm4\n",
      "07/09/2021  06:31 PM           240,516 EDA Traditional and Non-traditional Burial- Part 2.ipynb\n",
      "07/07/2021  05:33 PM           199,014 Extra notes for Capstone 2.ipynb\n",
      "07/14/2021  01:49 PM    <DIR>          Favorites\n",
      "09/11/2021  02:58 PM         1,945,393 Feature Engineering - Capstone2.ipynb\n",
      "09/12/2021  09:55 PM             9,685 HackerRank Prob July .ipynb\n",
      "09/13/2021  12:25 PM            66,161 HackerRank Problems.ipynb\n",
      "07/31/2021  12:16 AM             2,294 Hot Keys.ipynb\n",
      "08/16/2021  10:09 AM            26,119 int_to_day.ipynb\n",
      "04/20/2021  10:55 PM             5,488 Interactions between Pythons Functions.ipynb\n",
      "06/19/2021  05:16 PM           402,010 Linking DataFrames.ipynb\n",
      "07/14/2021  01:49 PM    <DIR>          Links\n",
      "04/29/2021  02:22 PM           179,239 London Calling Code.ipynb\n",
      "03/25/2021  10:15 AM            20,290 Methods, Functions, Def keyword, Basics and Logic with Functions, Tuple Unpacking.ipynb\n",
      "08/29/2021  04:38 PM            10,485 model.ipynb\n",
      "09/11/2021  09:40 AM           356,403 Modeling - Capstone2.ipynb\n",
      "07/14/2021  01:49 PM    <DIR>          Music\n",
      "04/26/2021  10:59 AM            56,135 myfirstnotebook.ipynb\n",
      "09/11/2021  02:58 PM            18,060 norm_minmax.csv\n",
      "09/11/2021  02:58 PM            19,624 normalized_u.csv\n",
      "09/11/2021  02:58 PM            18,434 normalized_us.csv\n",
      "08/09/2021  08:38 PM             1,678 Notes for Capstone tree.ipynb\n",
      "09/18/2021  10:26 AM    <DIR>          OneDrive\n",
      "09/12/2021  12:04 PM               928 pca.csv\n",
      "08/17/2021  12:09 AM    <DIR>          phpMyAdmin-5.1.1-all-languages\n",
      "04/15/2021  09:00 PM           225,612 Practice Code.ipynb\n",
      "08/16/2021  10:20 AM            95,679 Pre-processing & Training Data Development.ipynb\n",
      "07/14/2021  01:49 PM    <DIR>          Saved Games\n",
      "08/10/2021  08:04 PM             3,493 sb_utils.py.ipynb\n",
      "07/29/2021  11:38 AM    <DIR>          Searches\n",
      "05/26/2021  09:47 AM    <DIR>          source\n",
      "08/17/2021  10:24 AM                 0 sqlite_db_pythonsqlite.db\n",
      "08/18/2021  10:40 AM               874 sqlite_db_pythonsqlite.sqbpro\n",
      "08/18/2021  11:27 AM            14,241 SQLTasks Tier 2 notebook.ipynb\n",
      "09/16/2021  02:20 PM    <DIR>          src\n",
      "04/15/2021  08:41 AM            10,260 Statements Assessment Test.ipynb\n",
      "09/16/2021  09:25 PM    <DIR>          SyntheticControlMethods\n",
      "07/14/2021  02:00 PM    <DIR>          Tracing\n",
      "08/15/2021  01:19 AM         4,879,242 Tree Cover, Green Space, and Air Quality Correlation to Acute Respiratory Illnesses in Cleveland, Los Angeles, New York, and Tampa (2019-2020 Data) (Part 1).ipynb\n",
      "09/16/2021  09:58 PM    <DIR>          tslib\n",
      "04/09/2021  11:31 PM            14,852 Ultimate Test.ipynb\n",
      "07/14/2021  10:57 AM             9,990 Untitled.ipynb\n",
      "04/08/2021  09:10 PM             5,794 Untitled1.ipynb\n",
      "09/18/2021  10:36 AM           173,980 Untitled10.ipynb\n",
      "09/16/2021  11:15 PM             1,932 Untitled11.ipynb\n",
      "05/28/2021  09:32 AM             2,394 Untitled2.ipynb\n",
      "07/14/2021  05:28 PM             9,610 Untitled3.ipynb\n",
      "08/06/2021  03:36 PM            86,405 Untitled4.ipynb\n",
      "08/06/2021  06:12 PM           728,409 Untitled5.ipynb\n",
      "08/28/2021  02:27 PM             6,979 Untitled6.ipynb\n",
      "08/11/2021  06:37 PM            38,275 Untitled7.ipynb\n",
      "08/30/2021  09:17 PM         4,050,592 Untitled8.ipynb\n",
      "08/28/2021  08:37 PM             9,476 Untitled8-Copy1.ipynb\n",
      "08/30/2021  08:17 PM             5,187 Untitled9.ipynb\n",
      "08/19/2021  01:24 PM    <DIR>          Videos\n",
      "01/31/2021  10:17 PM             9,032 Voila.ipynb\n",
      "09/01/2021  12:11 PM         3,695,411 xl_.xlsx\n",
      "09/01/2021  12:11 PM             4,953 xl3_scaled.xlsx\n",
      "              71 File(s)     42,842,546 bytes\n",
      "              41 Dir(s)  39,054,819,328 bytes free\n"
     ]
    }
   ],
   "source": [
    "ls"
   ]
  },
  {
   "cell_type": "code",
   "execution_count": 14,
   "metadata": {},
   "outputs": [
    {
     "name": "stdout",
     "output_type": "stream",
     "text": [
      "C:\\Users\\yuvem\\census\n"
     ]
    }
   ],
   "source": [
    "cd census"
   ]
  },
  {
   "cell_type": "markdown",
   "metadata": {},
   "source": [
    "## Total Population"
   ]
  },
  {
   "cell_type": "code",
   "execution_count": 55,
   "metadata": {},
   "outputs": [
    {
     "data": {
      "text/plain": [
       "[{'NAME': 'Alabama',\n",
       "  'GEO_ID': '0400000US01',\n",
       "  'PCT001001': 27719.0,\n",
       "  'state': '01'}]"
      ]
     },
     "execution_count": 55,
     "metadata": {},
     "output_type": "execute_result"
    }
   ],
   "source": [
    "from census import Census\n",
    "from us import states\n",
    "\n",
    "# Alabama\n",
    "c = Census(\"11d78fc169ece1d1701625eceded053f8350b38b\")\n",
    "c.sf1.get(('NAME', 'GEO_ID','PCT001001'),\n",
    "          {'for': 'state:{}'.format(states.AL.fips)})"
   ]
  },
  {
   "cell_type": "code",
   "execution_count": 50,
   "metadata": {},
   "outputs": [
    {
     "data": {
      "text/plain": [
       "[{'NAME': 'Alaska',\n",
       "  'GEO_ID': '0400000US02',\n",
       "  'PCT001001': 103109.0,\n",
       "  'state': '02'}]"
      ]
     },
     "execution_count": 50,
     "metadata": {},
     "output_type": "execute_result"
    }
   ],
   "source": [
    "# Alaksa\n",
    "c.sf1.state(('NAME', 'GEO_ID', 'PCT001001'), states.AK.fips, year=2010) # PCT001001 = Population"
   ]
  },
  {
   "cell_type": "code",
   "execution_count": 51,
   "metadata": {},
   "outputs": [
    {
     "data": {
      "text/plain": [
       "[{'NAME': 'Arizona',\n",
       "  'GEO_ID': '0400000US04',\n",
       "  'PCT001001': 292139.0,\n",
       "  'state': '04'}]"
      ]
     },
     "execution_count": 51,
     "metadata": {},
     "output_type": "execute_result"
    }
   ],
   "source": [
    "# Arizona\n",
    "c.sf1.state(('NAME', 'GEO_ID', 'PCT001001'), states.AZ.fips, year=2010)"
   ]
  },
  {
   "cell_type": "code",
   "execution_count": 52,
   "metadata": {},
   "outputs": [
    {
     "data": {
      "text/plain": [
       "[{'NAME': 'California',\n",
       "  'GEO_ID': '0400000US06',\n",
       "  'PCT001001': 353564.0,\n",
       "  'state': '06'}]"
      ]
     },
     "execution_count": 52,
     "metadata": {},
     "output_type": "execute_result"
    }
   ],
   "source": [
    "# California\n",
    "c.sf1.state(('NAME', 'GEO_ID', 'PCT001001'), states.CA.fips, year=2010)"
   ]
  },
  {
   "cell_type": "code",
   "execution_count": 53,
   "metadata": {},
   "outputs": [
    {
     "data": {
      "text/plain": [
       "[{'NAME': 'Colorado',\n",
       "  'GEO_ID': '0400000US08',\n",
       "  'PCT001001': 54470.0,\n",
       "  'state': '08'}]"
      ]
     },
     "execution_count": 53,
     "metadata": {},
     "output_type": "execute_result"
    }
   ],
   "source": [
    "# Colorado\n",
    "c.sf1.state(('NAME', 'GEO_ID', 'PCT001001'), states.CO.fips, year=2010)"
   ]
  },
  {
   "cell_type": "code",
   "execution_count": 56,
   "metadata": {},
   "outputs": [
    {
     "data": {
      "text/plain": [
       "[{'NAME': 'Connecticut',\n",
       "  'GEO_ID': '0400000US09',\n",
       "  'PCT001001': 11066.0,\n",
       "  'state': '09'}]"
      ]
     },
     "execution_count": 56,
     "metadata": {},
     "output_type": "execute_result"
    }
   ],
   "source": [
    "# Connecticut\n",
    "c.sf1.state(('NAME', 'GEO_ID', 'PCT001001'), states.CT.fips, year=2010)"
   ]
  },
  {
   "cell_type": "code",
   "execution_count": 57,
   "metadata": {},
   "outputs": [
    {
     "data": {
      "text/plain": [
       "[{'NAME': 'Delaware',\n",
       "  'GEO_ID': '0400000US10',\n",
       "  'PCT001001': 4137.0,\n",
       "  'state': '10'}]"
      ]
     },
     "execution_count": 57,
     "metadata": {},
     "output_type": "execute_result"
    }
   ],
   "source": [
    "# Delaware\n",
    "c.sf1.state(('NAME', 'GEO_ID', 'PCT001001'), states.DE.fips, year=2010)"
   ]
  },
  {
   "cell_type": "code",
   "execution_count": 58,
   "metadata": {},
   "outputs": [
    {
     "data": {
      "text/plain": [
       "[{'NAME': 'District of Columbia',\n",
       "  'GEO_ID': '0400000US11',\n",
       "  'PCT001001': 2053.0,\n",
       "  'state': '11'}]"
      ]
     },
     "execution_count": 58,
     "metadata": {},
     "output_type": "execute_result"
    }
   ],
   "source": [
    "# D.C.\n",
    "c.sf1.state(('NAME', 'GEO_ID', 'PCT001001'), states.DC.fips, year=2010)"
   ]
  },
  {
   "cell_type": "code",
   "execution_count": 59,
   "metadata": {},
   "outputs": [
    {
     "data": {
      "text/plain": [
       "[{'NAME': 'Florida',\n",
       "  'GEO_ID': '0400000US12',\n",
       "  'PCT001001': 70196.0,\n",
       "  'state': '12'}]"
      ]
     },
     "execution_count": 59,
     "metadata": {},
     "output_type": "execute_result"
    }
   ],
   "source": [
    "# Florida\n",
    "c.sf1.state(('NAME', 'GEO_ID', 'PCT001001'), states.FL.fips, year=2010)"
   ]
  },
  {
   "cell_type": "code",
   "execution_count": 60,
   "metadata": {},
   "outputs": [
    {
     "data": {
      "text/plain": [
       "[{'NAME': 'Georgia',\n",
       "  'GEO_ID': '0400000US13',\n",
       "  'PCT001001': 31682.0,\n",
       "  'state': '13'}]"
      ]
     },
     "execution_count": 60,
     "metadata": {},
     "output_type": "execute_result"
    }
   ],
   "source": [
    "# Georgia\n",
    "c.sf1.state(('NAME', 'GEO_ID', 'PCT001001'), states.GA.fips, year=2010)"
   ]
  },
  {
   "cell_type": "code",
   "execution_count": 61,
   "metadata": {},
   "outputs": [
    {
     "data": {
      "text/plain": [
       "[{'NAME': 'Hawaii',\n",
       "  'GEO_ID': '0400000US15',\n",
       "  'PCT001001': 4058.0,\n",
       "  'state': '15'}]"
      ]
     },
     "execution_count": 61,
     "metadata": {},
     "output_type": "execute_result"
    }
   ],
   "source": [
    "# Hawaii\n",
    "c.sf1.state(('NAME', 'GEO_ID', 'PCT001001'), states.HI.fips, year=2010)"
   ]
  },
  {
   "cell_type": "code",
   "execution_count": 62,
   "metadata": {},
   "outputs": [
    {
     "data": {
      "text/plain": [
       "[{'NAME': 'Idaho',\n",
       "  'GEO_ID': '0400000US16',\n",
       "  'PCT001001': 20998.0,\n",
       "  'state': '16'}]"
      ]
     },
     "execution_count": 62,
     "metadata": {},
     "output_type": "execute_result"
    }
   ],
   "source": [
    "# Idaho\n",
    "c.sf1.state(('NAME', 'GEO_ID', 'PCT001001'), states.ID.fips, year=2010)"
   ]
  },
  {
   "cell_type": "code",
   "execution_count": 63,
   "metadata": {},
   "outputs": [
    {
     "data": {
      "text/plain": [
       "[{'NAME': 'Illinois',\n",
       "  'GEO_ID': '0400000US17',\n",
       "  'PCT001001': 43376.0,\n",
       "  'state': '17'}]"
      ]
     },
     "execution_count": 63,
     "metadata": {},
     "output_type": "execute_result"
    }
   ],
   "source": [
    "# Illinois\n",
    "c.sf1.state(('NAME', 'GEO_ID', 'PCT001001'), states.IL.fips, year=2010)"
   ]
  },
  {
   "cell_type": "code",
   "execution_count": 64,
   "metadata": {},
   "outputs": [
    {
     "data": {
      "text/plain": [
       "[{'NAME': 'Indiana',\n",
       "  'GEO_ID': '0400000US18',\n",
       "  'PCT001001': 18017.0,\n",
       "  'state': '18'}]"
      ]
     },
     "execution_count": 64,
     "metadata": {},
     "output_type": "execute_result"
    }
   ],
   "source": [
    "# Indiana\n",
    "c.sf1.state(('NAME', 'GEO_ID', 'PCT001001'), states.IN.fips, year=2010)"
   ]
  },
  {
   "cell_type": "code",
   "execution_count": 65,
   "metadata": {},
   "outputs": [
    {
     "data": {
      "text/plain": [
       "[{'NAME': 'Iowa',\n",
       "  'GEO_ID': '0400000US19',\n",
       "  'PCT001001': 10831.0,\n",
       "  'state': '19'}]"
      ]
     },
     "execution_count": 65,
     "metadata": {},
     "output_type": "execute_result"
    }
   ],
   "source": [
    "# Iowa\n",
    "c.sf1.state(('NAME', 'GEO_ID', 'PCT001001'), states.IA.fips, year=2010)"
   ]
  },
  {
   "cell_type": "code",
   "execution_count": 66,
   "metadata": {},
   "outputs": [
    {
     "data": {
      "text/plain": [
       "[{'NAME': 'Kansas',\n",
       "  'GEO_ID': '0400000US20',\n",
       "  'PCT001001': 27464.0,\n",
       "  'state': '20'}]"
      ]
     },
     "execution_count": 66,
     "metadata": {},
     "output_type": "execute_result"
    }
   ],
   "source": [
    "# Kansas\n",
    "c.sf1.state(('NAME', 'GEO_ID', 'PCT001001'), states.KS.fips, year=2010)"
   ]
  },
  {
   "cell_type": "code",
   "execution_count": 67,
   "metadata": {},
   "outputs": [
    {
     "data": {
      "text/plain": [
       "[{'NAME': 'Kentucky',\n",
       "  'GEO_ID': '0400000US21',\n",
       "  'PCT001001': 9875.0,\n",
       "  'state': '21'}]"
      ]
     },
     "execution_count": 67,
     "metadata": {},
     "output_type": "execute_result"
    }
   ],
   "source": [
    "# Kentucky\n",
    "c.sf1.state(('NAME', 'GEO_ID', 'PCT001001'), states.KY.fips, year=2010)"
   ]
  },
  {
   "cell_type": "code",
   "execution_count": 68,
   "metadata": {},
   "outputs": [
    {
     "data": {
      "text/plain": [
       "[{'NAME': 'Louisiana',\n",
       "  'GEO_ID': '0400000US22',\n",
       "  'PCT001001': 30199.0,\n",
       "  'state': '22'}]"
      ]
     },
     "execution_count": 68,
     "metadata": {},
     "output_type": "execute_result"
    }
   ],
   "source": [
    "# Louisiana\n",
    "c.sf1.state(('NAME', 'GEO_ID', 'PCT001001'), states.LA.fips, year=2010)"
   ]
  },
  {
   "cell_type": "code",
   "execution_count": 70,
   "metadata": {},
   "outputs": [
    {
     "data": {
      "text/plain": [
       "[{'NAME': 'Maine',\n",
       "  'GEO_ID': '0400000US23',\n",
       "  'PCT001001': 8409.0,\n",
       "  'state': '23'}]"
      ]
     },
     "execution_count": 70,
     "metadata": {},
     "output_type": "execute_result"
    }
   ],
   "source": [
    "# Maine\n",
    "c.sf1.state(('NAME', 'GEO_ID', 'PCT001001'), states.ME.fips, year=2010)"
   ]
  },
  {
   "cell_type": "code",
   "execution_count": 71,
   "metadata": {},
   "outputs": [
    {
     "data": {
      "text/plain": [
       "[{'NAME': 'Maryland',\n",
       "  'GEO_ID': '0400000US24',\n",
       "  'PCT001001': 20137.0,\n",
       "  'state': '24'}]"
      ]
     },
     "execution_count": 71,
     "metadata": {},
     "output_type": "execute_result"
    }
   ],
   "source": [
    "# Maryland\n",
    "c.sf1.state(('NAME', 'GEO_ID', 'PCT001001'), states.MD.fips, year=2010)"
   ]
  },
  {
   "cell_type": "code",
   "execution_count": 72,
   "metadata": {},
   "outputs": [
    {
     "data": {
      "text/plain": [
       "[{'NAME': 'Massachusetts',\n",
       "  'GEO_ID': '0400000US25',\n",
       "  'PCT001001': 18567.0,\n",
       "  'state': '25'}]"
      ]
     },
     "execution_count": 72,
     "metadata": {},
     "output_type": "execute_result"
    }
   ],
   "source": [
    "# Massachusetts\n",
    "c.sf1.state(('NAME', 'GEO_ID', 'PCT001001'), states.MA.fips, year=2010)"
   ]
  },
  {
   "cell_type": "code",
   "execution_count": 73,
   "metadata": {},
   "outputs": [
    {
     "data": {
      "text/plain": [
       "[{'NAME': 'Michigan',\n",
       "  'GEO_ID': '0400000US26',\n",
       "  'PCT001001': 60751.0,\n",
       "  'state': '26'}]"
      ]
     },
     "execution_count": 73,
     "metadata": {},
     "output_type": "execute_result"
    }
   ],
   "source": [
    "# Michigan\n",
    "c.sf1.state(('NAME', 'GEO_ID', 'PCT001001'), states.MI.fips, year=2010)"
   ]
  },
  {
   "cell_type": "code",
   "execution_count": 74,
   "metadata": {},
   "outputs": [
    {
     "data": {
      "text/plain": [
       "[{'NAME': 'Minnesota',\n",
       "  'GEO_ID': '0400000US27',\n",
       "  'PCT001001': 60573.0,\n",
       "  'state': '27'}]"
      ]
     },
     "execution_count": 74,
     "metadata": {},
     "output_type": "execute_result"
    }
   ],
   "source": [
    "# Minnesota\n",
    "c.sf1.state(('NAME', 'GEO_ID', 'PCT001001'), states.MN.fips, year=2010)"
   ]
  },
  {
   "cell_type": "code",
   "execution_count": 75,
   "metadata": {},
   "outputs": [
    {
     "data": {
      "text/plain": [
       "[{'NAME': 'Mississippi',\n",
       "  'GEO_ID': '0400000US28',\n",
       "  'PCT001001': 14802.0,\n",
       "  'state': '28'}]"
      ]
     },
     "execution_count": 75,
     "metadata": {},
     "output_type": "execute_result"
    }
   ],
   "source": [
    "# Mississippi\n",
    "c.sf1.state(('NAME', 'GEO_ID', 'PCT001001'), states.MS.fips, year=2010)"
   ]
  },
  {
   "cell_type": "code",
   "execution_count": 76,
   "metadata": {},
   "outputs": [
    {
     "data": {
      "text/plain": [
       "[{'NAME': 'Missouri',\n",
       "  'GEO_ID': '0400000US29',\n",
       "  'PCT001001': 26586.0,\n",
       "  'state': '29'}]"
      ]
     },
     "execution_count": 76,
     "metadata": {},
     "output_type": "execute_result"
    }
   ],
   "source": [
    "# Missouri\n",
    "c.sf1.state(('NAME', 'GEO_ID', 'PCT001001'), states.MO.fips, year=2010)"
   ]
  },
  {
   "cell_type": "code",
   "execution_count": 77,
   "metadata": {},
   "outputs": [
    {
     "data": {
      "text/plain": [
       "[{'NAME': 'Montana',\n",
       "  'GEO_ID': '0400000US30',\n",
       "  'PCT001001': 61496.0,\n",
       "  'state': '30'}]"
      ]
     },
     "execution_count": 77,
     "metadata": {},
     "output_type": "execute_result"
    }
   ],
   "source": [
    "# Montana\n",
    "c.sf1.state(('NAME', 'GEO_ID', 'PCT001001'), states.MT.fips, year=2010)"
   ]
  },
  {
   "cell_type": "code",
   "execution_count": 78,
   "metadata": {},
   "outputs": [
    {
     "data": {
      "text/plain": [
       "[{'NAME': 'Nebraska',\n",
       "  'GEO_ID': '0400000US31',\n",
       "  'PCT001001': 18221.0,\n",
       "  'state': '31'}]"
      ]
     },
     "execution_count": 78,
     "metadata": {},
     "output_type": "execute_result"
    }
   ],
   "source": [
    "# Nebraska\n",
    "c.sf1.state(('NAME', 'GEO_ID', 'PCT001001'), states.NE.fips, year=2010)"
   ]
  },
  {
   "cell_type": "code",
   "execution_count": 79,
   "metadata": {},
   "outputs": [
    {
     "data": {
      "text/plain": [
       "[{'NAME': 'Nebraska',\n",
       "  'GEO_ID': '0400000US31',\n",
       "  'PCT001001': 18221.0,\n",
       "  'state': '31'}]"
      ]
     },
     "execution_count": 79,
     "metadata": {},
     "output_type": "execute_result"
    }
   ],
   "source": [
    "# Nevada\n",
    "c.sf1.state(('NAME', 'GEO_ID', 'PCT001001'), states.NE.fips, year=2010)"
   ]
  },
  {
   "cell_type": "code",
   "execution_count": 80,
   "metadata": {},
   "outputs": [
    {
     "data": {
      "text/plain": [
       "[{'NAME': 'Nevada',\n",
       "  'GEO_ID': '0400000US32',\n",
       "  'PCT001001': 31349.0,\n",
       "  'state': '32'}]"
      ]
     },
     "execution_count": 80,
     "metadata": {},
     "output_type": "execute_result"
    }
   ],
   "source": [
    "# Nevada\n",
    "c.sf1.state(('NAME', 'GEO_ID', 'PCT001001'), states.NV.fips, year=2010)"
   ]
  },
  {
   "cell_type": "code",
   "execution_count": 81,
   "metadata": {},
   "outputs": [
    {
     "data": {
      "text/plain": [
       "[{'NAME': 'New Hampshire',\n",
       "  'GEO_ID': '0400000US33',\n",
       "  'PCT001001': 3036.0,\n",
       "  'state': '33'}]"
      ]
     },
     "execution_count": 81,
     "metadata": {},
     "output_type": "execute_result"
    }
   ],
   "source": [
    "# New Hampshire\n",
    "c.sf1.state(('NAME', 'GEO_ID', 'PCT001001'), states.NH.fips, year=2010)"
   ]
  },
  {
   "cell_type": "code",
   "execution_count": 82,
   "metadata": {},
   "outputs": [
    {
     "data": {
      "text/plain": [
       "[{'NAME': 'New Jersey',\n",
       "  'GEO_ID': '0400000US34',\n",
       "  'PCT001001': 28788.0,\n",
       "  'state': '34'}]"
      ]
     },
     "execution_count": 82,
     "metadata": {},
     "output_type": "execute_result"
    }
   ],
   "source": [
    "# New Jersey\n",
    "c.sf1.state(('NAME', 'GEO_ID', 'PCT001001'), states.NJ.fips, year=2010)"
   ]
  },
  {
   "cell_type": "code",
   "execution_count": 83,
   "metadata": {},
   "outputs": [
    {
     "data": {
      "text/plain": [
       "[{'NAME': 'New Mexico',\n",
       "  'GEO_ID': '0400000US35',\n",
       "  'PCT001001': 190375.0,\n",
       "  'state': '35'}]"
      ]
     },
     "execution_count": 83,
     "metadata": {},
     "output_type": "execute_result"
    }
   ],
   "source": [
    "# New Mexico\n",
    "c.sf1.state(('NAME', 'GEO_ID', 'PCT001001'), states.NM.fips, year=2010)"
   ]
  },
  {
   "cell_type": "code",
   "execution_count": 84,
   "metadata": {},
   "outputs": [
    {
     "data": {
      "text/plain": [
       "[{'NAME': 'New York',\n",
       "  'GEO_ID': '0400000US36',\n",
       "  'PCT001001': 106084.0,\n",
       "  'state': '36'}]"
      ]
     },
     "execution_count": 84,
     "metadata": {},
     "output_type": "execute_result"
    }
   ],
   "source": [
    "# New York\n",
    "c.sf1.state(('NAME', 'GEO_ID', 'PCT001001'), states.NY.fips, year=2010)"
   ]
  },
  {
   "cell_type": "code",
   "execution_count": 85,
   "metadata": {},
   "outputs": [
    {
     "data": {
      "text/plain": [
       "[{'NAME': 'North Carolina',\n",
       "  'GEO_ID': '0400000US37',\n",
       "  'PCT001001': 121301.0,\n",
       "  'state': '37'}]"
      ]
     },
     "execution_count": 85,
     "metadata": {},
     "output_type": "execute_result"
    }
   ],
   "source": [
    "# North Carolina\n",
    "c.sf1.state(('NAME', 'GEO_ID', 'PCT001001'), states.NC.fips, year=2010)"
   ]
  },
  {
   "cell_type": "code",
   "execution_count": 86,
   "metadata": {},
   "outputs": [
    {
     "data": {
      "text/plain": [
       "[{'NAME': 'North Dakota',\n",
       "  'GEO_ID': '0400000US38',\n",
       "  'PCT001001': 36412.0,\n",
       "  'state': '38'}]"
      ]
     },
     "execution_count": 86,
     "metadata": {},
     "output_type": "execute_result"
    }
   ],
   "source": [
    "# North Dakota\n",
    "c.sf1.state(('NAME', 'GEO_ID', 'PCT001001'), states.ND.fips, year=2010)"
   ]
  },
  {
   "cell_type": "code",
   "execution_count": 87,
   "metadata": {},
   "outputs": [
    {
     "data": {
      "text/plain": [
       "[{'NAME': 'Ohio',\n",
       "  'GEO_ID': '0400000US39',\n",
       "  'PCT001001': 24554.0,\n",
       "  'state': '39'}]"
      ]
     },
     "execution_count": 87,
     "metadata": {},
     "output_type": "execute_result"
    }
   ],
   "source": [
    "# Ohio\n",
    "c.sf1.state(('NAME', 'GEO_ID', 'PCT001001'), states.OH.fips, year=2010)"
   ]
  },
  {
   "cell_type": "code",
   "execution_count": 88,
   "metadata": {},
   "outputs": [
    {
     "data": {
      "text/plain": [
       "[{'NAME': 'Oklahoma',\n",
       "  'GEO_ID': '0400000US40',\n",
       "  'PCT001001': 313532.0,\n",
       "  'state': '40'}]"
      ]
     },
     "execution_count": 88,
     "metadata": {},
     "output_type": "execute_result"
    }
   ],
   "source": [
    "# Oklahoma\n",
    "c.sf1.state(('NAME', 'GEO_ID', 'PCT001001'), states.OK.fips, year=2010)"
   ]
  },
  {
   "cell_type": "code",
   "execution_count": 89,
   "metadata": {},
   "outputs": [
    {
     "data": {
      "text/plain": [
       "[{'NAME': 'Oregon',\n",
       "  'GEO_ID': '0400000US41',\n",
       "  'PCT001001': 51253.0,\n",
       "  'state': '41'}]"
      ]
     },
     "execution_count": 89,
     "metadata": {},
     "output_type": "execute_result"
    }
   ],
   "source": [
    "# Oregon\n",
    "c.sf1.state(('NAME', 'GEO_ID', 'PCT001001'), states.OR.fips, year=2010)"
   ]
  },
  {
   "cell_type": "code",
   "execution_count": 90,
   "metadata": {},
   "outputs": [
    {
     "data": {
      "text/plain": [
       "[{'NAME': 'Pennsylvania',\n",
       "  'GEO_ID': '0400000US42',\n",
       "  'PCT001001': 26355.0,\n",
       "  'state': '42'}]"
      ]
     },
     "execution_count": 90,
     "metadata": {},
     "output_type": "execute_result"
    }
   ],
   "source": [
    "# Pennsylvania\n",
    "c.sf1.state(('NAME', 'GEO_ID', 'PCT001001'), states.PA.fips, year=2010)"
   ]
  },
  {
   "cell_type": "code",
   "execution_count": 91,
   "metadata": {},
   "outputs": [
    {
     "data": {
      "text/plain": [
       "[{'NAME': 'Rhode Island',\n",
       "  'GEO_ID': '0400000US44',\n",
       "  'PCT001001': 5949.0,\n",
       "  'state': '44'}]"
      ]
     },
     "execution_count": 91,
     "metadata": {},
     "output_type": "execute_result"
    }
   ],
   "source": [
    "# Rhode Island\n",
    "c.sf1.state(('NAME', 'GEO_ID', 'PCT001001'), states.RI.fips, year=2010)"
   ]
  },
  {
   "cell_type": "code",
   "execution_count": 92,
   "metadata": {},
   "outputs": [
    {
     "data": {
      "text/plain": [
       "[{'NAME': 'South Carolina',\n",
       "  'GEO_ID': '0400000US45',\n",
       "  'PCT001001': 19220.0,\n",
       "  'state': '45'}]"
      ]
     },
     "execution_count": 92,
     "metadata": {},
     "output_type": "execute_result"
    }
   ],
   "source": [
    "# South Carolina\n",
    "c.sf1.state(('NAME', 'GEO_ID', 'PCT001001'), states.SC.fips, year=2010)"
   ]
  },
  {
   "cell_type": "code",
   "execution_count": 93,
   "metadata": {},
   "outputs": [
    {
     "data": {
      "text/plain": [
       "[{'NAME': 'South Dakota',\n",
       "  'GEO_ID': '0400000US46',\n",
       "  'PCT001001': 71557.0,\n",
       "  'state': '46'}]"
      ]
     },
     "execution_count": 93,
     "metadata": {},
     "output_type": "execute_result"
    }
   ],
   "source": [
    "# South Dakota\n",
    "c.sf1.state(('NAME', 'GEO_ID', 'PCT001001'), states.SD.fips, year=2010)"
   ]
  },
  {
   "cell_type": "code",
   "execution_count": 94,
   "metadata": {},
   "outputs": [
    {
     "data": {
      "text/plain": [
       "[{'NAME': 'Tennessee',\n",
       "  'GEO_ID': '0400000US47',\n",
       "  'PCT001001': 19573.0,\n",
       "  'state': '47'}]"
      ]
     },
     "execution_count": 94,
     "metadata": {},
     "output_type": "execute_result"
    }
   ],
   "source": [
    "# Tennessee\n",
    "c.sf1.state(('NAME', 'GEO_ID', 'PCT001001'), states.TN.fips, year=2010)"
   ]
  },
  {
   "cell_type": "code",
   "execution_count": 95,
   "metadata": {},
   "outputs": [
    {
     "data": {
      "text/plain": [
       "[{'NAME': 'Texas',\n",
       "  'GEO_ID': '0400000US48',\n",
       "  'PCT001001': 168423.0,\n",
       "  'state': '48'}]"
      ]
     },
     "execution_count": 95,
     "metadata": {},
     "output_type": "execute_result"
    }
   ],
   "source": [
    "# Texas\n",
    "c.sf1.state(('NAME', 'GEO_ID', 'PCT001001'), states.TX.fips, year=2010)"
   ]
  },
  {
   "cell_type": "code",
   "execution_count": 97,
   "metadata": {},
   "outputs": [
    {
     "data": {
      "text/plain": [
       "[{'NAME': 'Utah',\n",
       "  'GEO_ID': '0400000US49',\n",
       "  'PCT001001': 32205.0,\n",
       "  'state': '49'}]"
      ]
     },
     "execution_count": 97,
     "metadata": {},
     "output_type": "execute_result"
    }
   ],
   "source": [
    "# Utah\n",
    "c.sf1.state(('NAME', 'GEO_ID', 'PCT001001'), states.UT.fips, year=2010)"
   ]
  },
  {
   "cell_type": "code",
   "execution_count": 98,
   "metadata": {},
   "outputs": [
    {
     "data": {
      "text/plain": [
       "[{'NAME': 'Vermont',\n",
       "  'GEO_ID': '0400000US50',\n",
       "  'PCT001001': 2135.0,\n",
       "  'state': '50'}]"
      ]
     },
     "execution_count": 98,
     "metadata": {},
     "output_type": "execute_result"
    }
   ],
   "source": [
    "# Vermont\n",
    "c.sf1.state(('NAME', 'GEO_ID', 'PCT001001'), states.VT.fips, year=2010)"
   ]
  },
  {
   "cell_type": "code",
   "execution_count": 99,
   "metadata": {},
   "outputs": [
    {
     "data": {
      "text/plain": [
       "[{'NAME': 'Virginia',\n",
       "  'GEO_ID': '0400000US51',\n",
       "  'PCT001001': 28749.0,\n",
       "  'state': '51'}]"
      ]
     },
     "execution_count": 99,
     "metadata": {},
     "output_type": "execute_result"
    }
   ],
   "source": [
    "# Virginia\n",
    "c.sf1.state(('NAME', 'GEO_ID', 'PCT001001'), states.VA.fips, year=2010)"
   ]
  },
  {
   "cell_type": "code",
   "execution_count": 100,
   "metadata": {},
   "outputs": [
    {
     "data": {
      "text/plain": [
       "[{'NAME': 'Washington',\n",
       "  'GEO_ID': '0400000US53',\n",
       "  'PCT001001': 101890.0,\n",
       "  'state': '53'}]"
      ]
     },
     "execution_count": 100,
     "metadata": {},
     "output_type": "execute_result"
    }
   ],
   "source": [
    "# Washington\n",
    "c.sf1.state(('NAME', 'GEO_ID', 'PCT001001'), states.WA.fips, year=2010)"
   ]
  },
  {
   "cell_type": "code",
   "execution_count": 101,
   "metadata": {},
   "outputs": [
    {
     "data": {
      "text/plain": [
       "[{'NAME': 'West Virginia',\n",
       "  'GEO_ID': '0400000US54',\n",
       "  'PCT001001': 3681.0,\n",
       "  'state': '54'}]"
      ]
     },
     "execution_count": 101,
     "metadata": {},
     "output_type": "execute_result"
    }
   ],
   "source": [
    "# West Virginia\n",
    "c.sf1.state(('NAME', 'GEO_ID', 'PCT001001'), states.WV.fips, year=2010)"
   ]
  },
  {
   "cell_type": "code",
   "execution_count": 102,
   "metadata": {},
   "outputs": [
    {
     "data": {
      "text/plain": [
       "[{'NAME': 'Wisconsin',\n",
       "  'GEO_ID': '0400000US55',\n",
       "  'PCT001001': 53894.0,\n",
       "  'state': '55'}]"
      ]
     },
     "execution_count": 102,
     "metadata": {},
     "output_type": "execute_result"
    }
   ],
   "source": [
    "# Wisconsin\n",
    "c.sf1.state(('NAME', 'GEO_ID', 'PCT001001'), states.WI.fips, year=2010)"
   ]
  },
  {
   "cell_type": "code",
   "execution_count": 103,
   "metadata": {},
   "outputs": [
    {
     "data": {
      "text/plain": [
       "[{'NAME': 'Wyoming',\n",
       "  'GEO_ID': '0400000US56',\n",
       "  'PCT001001': 13161.0,\n",
       "  'state': '56'}]"
      ]
     },
     "execution_count": 103,
     "metadata": {},
     "output_type": "execute_result"
    }
   ],
   "source": [
    "# Wyoming\n",
    "c.sf1.state(('NAME', 'GEO_ID', 'PCT001001'), states.WY.fips, year=2010)"
   ]
  }
 ],
 "metadata": {
  "kernelspec": {
   "display_name": "Python 3",
   "language": "python",
   "name": "python3"
  },
  "language_info": {
   "codemirror_mode": {
    "name": "ipython",
    "version": 3
   },
   "file_extension": ".py",
   "mimetype": "text/x-python",
   "name": "python",
   "nbconvert_exporter": "python",
   "pygments_lexer": "ipython3",
   "version": "3.8.5"
  },
  "vp": {
   "base_numbering": 1,
   "nav_menu": {},
   "number_sections": true,
   "sideBar": true,
   "title_cell": "VisualPython",
   "title_sidebar": "VisualPython",
   "vpPosition": {
    "height": "calc(100% - 180px)",
    "right": "10px",
    "top": "110px",
    "width": "50%"
   },
   "vp_cell": false,
   "vp_section_display": true,
   "vp_window_display": false
  }
 },
 "nbformat": 4,
 "nbformat_minor": 4
}
